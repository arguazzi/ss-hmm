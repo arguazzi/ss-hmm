{
 "cells": [
  {
   "cell_type": "markdown",
   "metadata": {},
   "source": [
    "### Reproducing results\n",
    "\n",
    "In Zhong 2007, the following synthetic data is described as having been used for testing: \n",
    "\n",
    "40 sequences of length T=200, generated from two continuous HMM models (HMM1, HMM2), 20 from each. The number of hidden states is 2 from both models. The prior and observation parameters for HMM1 and HMM2 are the same. The prior is uniform and the observation distribution is univariate Gaussian with mean $\\mu = 3$ and variance $\\sigma^2 = 1$ for hidden state 1, and $\\mu = 0$ with variance $\\sigma^2 = 1$ for hidden state 2. The state transition parameters are A1 = [[0.6, 0.4],[0.4, 0.6]] and A2 = [[0.4, 0.6],[0.6, 0.4]] respectively.\n",
    "\n",
    "Each experiment (for labelled 2-12 labelled sequences) was run 20 times, reporting the average classification error. They found that increasing the number of hidden states used to model the data from 2 to 5 improved the accuracy."
   ]
  },
  {
   "cell_type": "code",
   "execution_count": 1,
   "metadata": {},
   "outputs": [],
   "source": [
    "%matplotlib inline\n",
    "\n",
    "import random\n",
    "import pandas as pd\n",
    "import numpy as np\n",
    "import datetime as dt\n",
    "import matplotlib.pyplot as plt\n",
    "\n",
    "from hmmlearn.hmm import GaussianHMM\n",
    "\n",
    "from sshmm import SemiSupervisedHMM\n",
    "\n",
    "from sklearn.metrics import classification_report, f1_score, accuracy_score\n",
    "\n",
    "import warnings"
   ]
  },
  {
   "cell_type": "markdown",
   "metadata": {},
   "source": [
    "#### Function to generate the mock data"
   ]
  },
  {
   "cell_type": "code",
   "execution_count": 2,
   "metadata": {},
   "outputs": [],
   "source": [
    "def mock_data(n_samples, n_total, n_labelled, class_split, seed, startprob, means, covars, transmat):\n",
    "\n",
    "    n_unlabelled = n_total-n_labelled\n",
    "    model0 = GaussianHMM(n_components=2, covariance_type=\"diagonal\")\n",
    "    model0.startprob_ = startprob[0]\n",
    "    model0.means_ = means[0]\n",
    "    model0.covars_ = covars[0]\n",
    "    model0.transmat_ = transmat[0]\n",
    "\n",
    "    model1 = GaussianHMM(n_components=2, covariance_type=\"diagonal\")\n",
    "    model1.startprob_ = startprob[1]\n",
    "    model1.means_ = means[1]\n",
    "    model1.covars_ = covars[1]\n",
    "    model1.transmat_ = transmat[1]\n",
    "\n",
    "    n0 = int(n_labelled*class_split)\n",
    "    n1 = int(n_labelled*(1-class_split))\n",
    "\n",
    "    with warnings.catch_warnings():\n",
    "        warnings.filterwarnings('ignore', category=DeprecationWarning)\n",
    "        X = []\n",
    "        Y = []\n",
    "        X_t = []\n",
    "        Y_t = []\n",
    "        for i in range(0, int(n_total*class_split)):\n",
    "            x,_ = model0.sample(n_samples)\n",
    "            xt,_ = model0.sample(n_samples)\n",
    "\n",
    "            X = np.append(X, x)\n",
    "            X_t = np.append(X_t, xt)\n",
    "\n",
    "        for i in range(0, int(n_total*(1-class_split))):\n",
    "            y,_ = model1.sample(n_samples)\n",
    "            yt,_ = model1.sample(n_samples)\n",
    "            Y = np.append(Y, y)\n",
    "            Y_t = np.append(Y_t, yt)\n",
    "\n",
    "    seq_labelled = np.append(X[:n_samples*n0], Y[:n_samples*n1])\n",
    "    seq_unlabelled = np.append(X[n_samples*n0:],Y[n_samples*n1:])\n",
    "    \n",
    "    seq_labelled_len = np.ones(n_labelled)*n_samples\n",
    "    seq_unlabelled_len = np.ones(n_unlabelled)*n_samples\n",
    "    \n",
    "    seq_labelled_class = np.append(np.zeros(n_labelled/2), np.ones(n_labelled/2))\n",
    "    seq_unlabelled_class = np.append(np.zeros(n_unlabelled/2), np.ones(n_unlabelled/2))\n",
    "    \n",
    "    seq_test = np.append(X_t, Y_t)\n",
    "    seq_test_class = np.append(np.zeros(n_total/2), np.ones(n_total/2))\n",
    "    seq_test_len = np.ones(n_total)*n_samples\n",
    "    \n",
    "    return seq_labelled, seq_unlabelled, seq_labelled_len, \\\n",
    "seq_unlabelled_len, seq_labelled_class, seq_unlabelled_class, \\\n",
    "seq_test, seq_test_class, seq_test_len"
   ]
  },
  {
   "cell_type": "markdown",
   "metadata": {},
   "source": [
    "#### Generate some data"
   ]
  },
  {
   "cell_type": "code",
   "execution_count": 3,
   "metadata": {},
   "outputs": [],
   "source": [
    "is_semisupervised = True\n",
    "n_samples = 200\n",
    "n_total = 40\n",
    "class_split = 0.5\n",
    "seed = 11\n",
    "\n",
    "startprob =  [np.array([0.5, 0.5]), np.array([0.5, 0.5])]\n",
    "means = [np.array([[3],[0]]), np.array([[3],[0]])]\n",
    "covars = [np.array([[1], [1]]), np.array([[1], [1]])]\n",
    "transmat = [np.array([[0.6, 0.4],[0.4, 0.6]]), np.array([[0.4, 0.6],[0.6, 0.4]])]\n",
    "\n",
    "o = []\n",
    "\n",
    "for i in range(0,20):\n",
    "    t = []\n",
    "    for n_labelled in range(2, 14, 2):\n",
    "\n",
    "        seq_labelled, seq_unlabelled, seq_labelled_len, seq_unlabelled_len, \\\n",
    "        seq_labelled_class, seq_unlabelled_class, seq_test, seq_test_class, \\\n",
    "        seq_test_len = mock_data(n_samples, n_total, n_labelled, class_split, seed+i, startprob, means, covars, transmat)\n",
    "\n",
    "        sshmm2 = SemiSupervisedHMM(seq_labelled, seq_unlabelled, seq_labelled_len, seq_unlabelled_len, seq_labelled_class, np.array([2,2]), is_semisupervised)\n",
    "        hmm2 = SemiSupervisedHMM(seq_labelled, seq_unlabelled, seq_labelled_len, seq_unlabelled_len, seq_labelled_class, np.array([2,2]), False)\n",
    "        sshmm5 = SemiSupervisedHMM(seq_labelled, seq_unlabelled, seq_labelled_len, seq_unlabelled_len, seq_labelled_class, np.array([5,5]), is_semisupervised)\n",
    "        hmm5 = SemiSupervisedHMM(seq_labelled, seq_unlabelled, seq_labelled_len, seq_unlabelled_len, seq_labelled_class, np.array([5,5]), False)\n",
    "\n",
    "        import warnings\n",
    "        with warnings.catch_warnings():\n",
    "            warnings.filterwarnings('ignore', category=DeprecationWarning)\n",
    "            \n",
    "            sshmm2.run()\n",
    "            hmm2.run()\n",
    "            sshmm5.run()\n",
    "            hmm5.run()\n",
    "\n",
    "        o.append({\n",
    "            'n':n_labelled, \n",
    "            'SSHC-1 (2-state)':1-accuracy_score(sshmm2.lbl_u, seq_unlabelled_class), \n",
    "            'HMM(2-state)':1-accuracy_score(hmm2.lbl_u, seq_unlabelled_class), \n",
    "            'SSHC-1 (5-state)':1-accuracy_score(sshmm5.lbl_u, seq_unlabelled_class), \n",
    "            'HMM(5-state)':1-accuracy_score(hmm5.lbl_u, seq_unlabelled_class)})"
   ]
  },
  {
   "cell_type": "code",
   "execution_count": 4,
   "metadata": {},
   "outputs": [],
   "source": [
    "df = pd.DataFrame(o)\n",
    "df = df.groupby('n').mean()"
   ]
  },
  {
   "cell_type": "code",
   "execution_count": 5,
   "metadata": {},
   "outputs": [
    {
     "data": {
      "image/png": "[encoded data removed]",
      "text/plain": [
       "<Figure size 432x288 with 1 Axes>"
      ]
     },
     "metadata": {},
     "output_type": "display_data"
    }
   ],
   "source": [
    "_ = df.plot()\n",
    "_ = plt.xlabel('Number of Labelled Sequences')\n",
    "_ = plt.ylabel('Classification Error')"
   ]
  },
  {
   "cell_type": "markdown",
   "metadata": {},
   "source": [
    "### Conclusion\n",
    "\n",
    "By and large the data matches observations found in the paper, although classification errrors for both the supervised (HMM) and the semi-supervised (SSHC-1) cases are about half what was reported, and there does not appear to be any benefit in a 5-state model, contrary to the findings in the paper but in line with the theory."
   ]
  },
  {
   "cell_type": "code",
   "execution_count": null,
   "metadata": {},
   "outputs": [],
   "source": []
  }
 ],
 "metadata": {
  "kernelspec": {
   "display_name": "Python 2",
   "language": "python",
   "name": "python2"
  },
  "language_info": {
   "codemirror_mode": {
    "name": "ipython",
    "version": 2
   },
   "file_extension": ".py",
   "mimetype": "text/x-python",
   "name": "python",
   "nbconvert_exporter": "python",
   "pygments_lexer": "ipython2",
   "version": "2.7.15rc1"
  }
 },
 "nbformat": 4,
 "nbformat_minor": 2
}
